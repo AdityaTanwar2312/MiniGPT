{
 "cells": [
  {
   "cell_type": "code",
   "execution_count": 1,
   "id": "7ab599c6-4a7b-44f5-80ec-6e1e4cd94fb1",
   "metadata": {},
   "outputs": [],
   "source": [
    "with open('GreenFinance.txt', 'r', encoding='utf-8') as f:\n",
    "    text=f.read()"
   ]
  },
  {
   "cell_type": "code",
   "execution_count": 2,
   "id": "1b102c2c-e714-4f87-a6c9-628794d642d5",
   "metadata": {},
   "outputs": [
    {
     "name": "stdout",
     "output_type": "stream",
     "text": [
      "Lenght of dataset in characters:  156194\n"
     ]
    }
   ],
   "source": [
    "print('Lenght of dataset in characters: ', len(text))"
   ]
  },
  {
   "cell_type": "markdown",
   "id": "24ffa16f-34d6-4424-8448-35bde4b817c3",
   "metadata": {},
   "source": [
    "## All the unique characters that occur in this text"
   ]
  },
  {
   "cell_type": "code",
   "execution_count": 3,
   "id": "a870c3f2-ba04-4c83-a8f0-df2f74a05c1a",
   "metadata": {},
   "outputs": [
    {
     "name": "stdout",
     "output_type": "stream",
     "text": [
      "\n",
      " !#$%&'()*+,-./0123456789:;=>?ABCDEFGHIJKLMNOPQRSTUVWXYZ[]_abcdefghijklmnopqrstuvwxyz£·ö–—‘’“”•€−\n",
      "98\n"
     ]
    }
   ],
   "source": [
    "chars = sorted(list(set(text)))\n",
    "vocab_size = len(chars)\n",
    "print(''.join(chars))\n",
    "print(vocab_size)"
   ]
  },
  {
   "cell_type": "markdown",
   "id": "75ba83e9-ecd9-49b9-bd60-ed2c7d0fdfa3",
   "metadata": {},
   "source": [
    "## Tokenisation"
   ]
  },
  {
   "cell_type": "markdown",
   "id": "00566c8d-67a0-4c99-a38d-ab7fd812c2f3",
   "metadata": {},
   "source": [
    "Create a mapping for characters to integers"
   ]
  },
  {
   "cell_type": "code",
   "execution_count": 4,
   "id": "63eb29fb-5f7c-4693-a38f-f9d07ebb1502",
   "metadata": {},
   "outputs": [
    {
     "name": "stdout",
     "output_type": "stream",
     "text": [
      "[67, 68, 1, 50, 38, 35, 48, 35, 2]\n",
      "hi THERE!\n"
     ]
    }
   ],
   "source": [
    "stoi = {ch:i for i, ch in enumerate(chars)}\n",
    "itos = {i:ch for i, ch in enumerate(chars)}\n",
    "\n",
    "# Encoders take a string and output a list of integers\n",
    "# Decoders take a list of integers and output a string\n",
    "\n",
    "encode = lambda s: [stoi[c] for c in s]\n",
    "decode = lambda l: ''.join([itos[i] for i in l])\n",
    "\n",
    "print(encode('hi THERE!'))\n",
    "print(decode(encode('hi THERE!')))"
   ]
  },
  {
   "cell_type": "markdown",
   "id": "01be7d46-1189-4353-9f21-d49e64f4e1b6",
   "metadata": {},
   "source": [
    "Now lets encode the entire chunck of text we are having and save it to torch.tensor"
   ]
  },
  {
   "cell_type": "code",
   "execution_count": 6,
   "id": "b6961d05-6930-4a8d-89f0-f608ce678846",
   "metadata": {},
   "outputs": [
    {
     "name": "stdout",
     "output_type": "stream",
     "text": [
      "torch.Size([156194]) torch.int64\n",
      "tensor([31, 61, 78, 79, 77, 60, 62, 79,  1,  0, 50, 67, 68, 78,  1, 75, 60, 75,\n",
      "        64, 77,  1, 77, 64, 81, 68, 64, 82, 78,  1, 79, 67, 64,  1, 64, 83, 68,\n",
      "        78, 79, 68, 73, 66,  1, 77, 64, 78, 64, 60, 77, 62, 67,  1, 74, 73,  1,\n",
      "        66, 77, 64, 64, 73,  1, 65, 68, 73, 60, 73, 62, 64, 14,  1, 39, 79,  1,\n",
      "        68, 63, 64, 73, 79, 68, 65, 68, 64, 78,  1, 79, 67, 64,  1, 68, 72, 75,\n",
      "        74, 77, 79, 60, 73, 79,  1, 79, 67, 64, 72, 64, 78,  1, 68, 73,  1,  0,\n",
      "        79, 67, 64,  1, 66, 77, 64, 64, 73,  1, 65, 68, 73, 60, 73, 62, 64,  1,\n",
      "        71, 68, 79, 64, 77, 60, 79, 80, 77, 64, 12,  1, 75, 60, 77, 79, 68, 62,\n",
      "        80, 71, 60, 77, 71, 84, 12,  1, 79, 67, 64,  1, 78, 79, 77, 60, 79, 64,\n",
      "        66, 68, 64, 78,  1, 79, 74,  1, 68, 73, 62, 77, 64, 60, 78, 64,  1, 66,\n",
      "        77, 64, 64, 73,  1, 65, 68, 73, 60, 73, 62, 68, 73, 66, 27,  1, 64, 65,\n",
      "        65, 74, 77, 79, 78,  1, 79, 74,  1,  0, 72, 60, 70, 64,  1, 66, 77, 64,\n",
      "        64, 73,  1, 68, 73, 81, 64, 78, 79, 72, 64, 73, 79,  1, 75, 77, 74, 65,\n",
      "        68, 79, 60, 61, 71, 64, 27,  1, 75, 77, 74, 72, 74, 79, 68, 73, 66,  1,\n",
      "        66, 77, 64, 64, 73,  1, 65, 68, 73, 60, 73, 62, 68, 73, 66,  1, 80, 78,\n",
      "        68, 73, 66,  1, 79, 64, 62, 67, 73, 74, 71, 74, 66, 84,  1, 60, 73, 63,\n",
      "         1, 75, 74, 71, 68, 62, 84, 12,  1, 79, 67, 64,  1,  0, 77, 74, 71, 64,\n",
      "         1, 74, 65,  1, 77, 64, 66, 80, 71, 60, 79, 74, 77, 78,  1, 60, 73, 63,\n",
      "         1, 65, 68, 73, 60, 73, 62, 68, 60, 71,  1, 68, 73, 78, 79, 68, 79, 80,\n",
      "        79, 68, 74, 73, 78,  1, 68, 73,  1, 79, 67, 64,  1, 66, 77, 64, 64, 73,\n",
      "         1, 65, 68, 73, 60, 73, 62, 64,  1, 60, 66, 64, 73, 63, 60, 12,  1, 60,\n",
      "        73, 63,  1, 79, 67, 64,  1, 62, 67, 60, 71, 71, 64, 73, 66, 64, 78,  1,\n",
      "        74, 65,  1,  0, 66, 77, 64, 64, 73,  1, 65, 68, 73, 60, 73, 62, 68, 73,\n",
      "        66, 14,  1, 49, 64, 81, 64, 77, 60, 71,  1, 62, 77, 74, 78, 78, 13, 62,\n",
      "        74, 80, 73, 79, 77, 84,  1, 74, 61, 78, 64, 77, 81, 60, 79, 68, 74, 73,\n",
      "        78,  1, 60, 61, 74, 80, 79,  1, 79, 67, 64,  1, 62, 67, 60, 71, 71, 64,\n",
      "        73, 66, 64, 78,  1, 74, 65,  1, 66, 77, 64, 64, 73,  1, 65, 68, 73, 60,\n",
      "        73, 62, 64,  1, 60, 73, 63,  1,  0, 78, 74, 71, 80, 79, 68, 74, 73, 78,\n",
      "         1, 79, 74,  1, 66, 77, 64, 64, 73,  1, 65, 68, 73, 60, 73, 62, 64,  1,\n",
      "        68, 78, 78, 80, 64, 78,  1, 60, 77, 64,  1, 63, 74, 62, 80, 72, 64, 73,\n",
      "        79, 64, 63, 14,  1, 50, 67, 64,  1, 65, 68, 73, 63, 68, 73, 66, 78,  1,\n",
      "        78, 67, 74, 82,  1, 79, 67, 60, 79,  1, 66, 77, 64, 64, 73,  1, 65, 68,\n",
      "        73, 60, 73, 62, 64,  1, 67, 60, 78,  1, 79, 67, 64,  1,  0, 75, 74, 79,\n",
      "        64, 73, 79, 68, 60, 71,  1, 79, 74,  1, 72, 60, 70, 64,  1, 60,  1, 78,\n",
      "        68, 66, 73, 68, 65, 68, 62, 60, 73, 79,  1, 63, 68, 65, 65, 64, 77, 64,\n",
      "        73, 62, 64,  1, 68, 73,  1, 79, 67, 64,  1, 64, 73, 81, 68, 77, 74, 73,\n",
      "        72, 64, 73, 79, 12,  1, 78, 74, 62, 68, 64, 79, 84,  1, 60, 73, 63,  1,\n",
      "        65, 74, 77,  1, 62, 71, 68, 72, 60, 79, 64,  1, 62, 67, 60, 73, 66, 64,\n",
      "         1,  0, 72, 68, 79, 68, 66, 60, 79, 68, 74, 73, 12,  1, 61, 80, 79,  1,\n",
      "        72, 60, 73, 84,  1, 62, 67, 60, 71, 71, 64, 73, 66, 64, 78,  1, 60, 61,\n",
      "        74, 80, 73, 63,  1, 78, 80, 62, 67,  1, 60, 78,  1, 79, 67, 64,  1, 71,\n",
      "        60, 62, 70,  1, 74, 65,  1, 60, 82, 60, 77, 64, 73, 64, 78, 78,  1, 60,\n",
      "        61, 74, 80, 79,  1, 66, 77, 64, 64, 73,  1, 65, 68, 73, 60, 73, 62, 64,\n",
      "        12,  1,  0, 68, 73, 62, 74, 73, 78, 68, 78, 79, 64, 73, 79,  1, 63, 64,\n",
      "        65, 68, 73, 68, 79, 68, 74, 73, 78,  1, 74, 65,  1, 66, 77, 64, 64, 73,\n",
      "         1, 65, 68, 73, 60, 73, 62, 64, 12,  1, 71, 60, 62, 70,  1, 74, 65,  1,\n",
      "        75, 74, 71, 68, 62, 84,  1, 62, 74, 74, 77, 63, 68, 73, 60, 79, 68, 74,\n",
      "        73,  1, 65, 74, 77,  1, 66, 77, 64, 64, 73,  1, 65, 68, 73, 60, 73, 62,\n",
      "        68, 73, 66, 12,  1,  0, 68, 73, 62, 74, 73, 78, 68, 78, 79, 64, 73, 79,\n",
      "         1, 75, 74, 71, 68, 62, 68, 64, 78, 12,  1, 60, 73, 63,  1, 71, 60, 62,\n",
      "        70,  1, 74, 65,  1, 75, 77, 74, 65, 68, 79, 60, 61, 71, 64,  1, 68, 73,\n",
      "        62, 64, 73, 79, 68, 81, 64, 78,  1, 79, 74,  1, 68, 73, 81, 64, 78, 79,\n",
      "        74, 77, 78,  1, 60, 73, 63,  1, 65, 68, 73, 60, 73, 62, 68, 60, 71,  1,\n",
      "        68, 73, 78, 79, 68, 79, 80, 79, 68, 74, 73, 78,  1, 82, 67, 74,  1,  0,\n",
      "        60, 77, 64,  1, 82, 68, 71, 71, 68, 73, 66,  1, 79, 74,  1, 68, 73, 81,\n",
      "        64, 78, 79,  1, 68, 73,  1, 62, 71, 68])\n"
     ]
    }
   ],
   "source": [
    "import torch\n",
    "data = torch.tensor(encode(text), dtype = torch.long)\n",
    "print(data.shape, data.dtype)\n",
    "print(data[:1000])"
   ]
  },
  {
   "cell_type": "markdown",
   "id": "9a0bb11b-d099-4fa1-a015-b035f16620af",
   "metadata": {},
   "source": [
    "## Spliting the data"
   ]
  },
  {
   "cell_type": "markdown",
   "id": "dd26ea93-582a-4315-8e13-9c0df833f33a",
   "metadata": {},
   "source": [
    "Split the data in the validation and testing set"
   ]
  },
  {
   "cell_type": "code",
   "execution_count": 7,
   "id": "f2ebbe2a-d78f-4593-8175-00eb77b45d9d",
   "metadata": {},
   "outputs": [],
   "source": [
    "# We will keep 90 percent of proportion into testing and 10 percent to validate\n",
    "\n",
    "n = int(0.9*len(data))\n",
    "train_data = data[:n]\n",
    "val_data = data[n:]"
   ]
  },
  {
   "cell_type": "code",
   "execution_count": 8,
   "id": "f79c274e-6f9b-4c54-ab61-04f0caa1d2ca",
   "metadata": {},
   "outputs": [
    {
     "data": {
      "text/plain": [
       "tensor([31, 61, 78, 79, 77, 60, 62, 79,  1])"
      ]
     },
     "execution_count": 8,
     "metadata": {},
     "output_type": "execute_result"
    }
   ],
   "source": [
    "# Usually we train the model of samples of data or block of data here we are calling them block_size\n",
    "\n",
    "block_size = 8\n",
    "train_data[:block_size + 1]"
   ]
  },
  {
   "cell_type": "markdown",
   "id": "71838ab7-6306-4d20-8bab-09571da811a8",
   "metadata": {},
   "source": [
    "A simple illustraion of working on the data with the specified block size\n",
    "\n",
    "On what basis the predictions will be made"
   ]
  },
  {
   "cell_type": "code",
   "execution_count": 9,
   "id": "00e261e2-fd47-4f64-b27d-25572e701380",
   "metadata": {},
   "outputs": [
    {
     "name": "stdout",
     "output_type": "stream",
     "text": [
      "When input is tensor([31]) the target is:61\n",
      "When input is tensor([31, 61]) the target is:78\n",
      "When input is tensor([31, 61, 78]) the target is:79\n",
      "When input is tensor([31, 61, 78, 79]) the target is:77\n",
      "When input is tensor([31, 61, 78, 79, 77]) the target is:60\n",
      "When input is tensor([31, 61, 78, 79, 77, 60]) the target is:62\n",
      "When input is tensor([31, 61, 78, 79, 77, 60, 62]) the target is:79\n",
      "When input is tensor([31, 61, 78, 79, 77, 60, 62, 79]) the target is:1\n"
     ]
    }
   ],
   "source": [
    "x = train_data[:block_size]\n",
    "y = train_data[1:block_size+1]\n",
    "for t in range(block_size):\n",
    "    context = x[:t+1]\n",
    "    target = y[t]\n",
    "    print(f\"When input is {context} the target is:{target}\")"
   ]
  },
  {
   "cell_type": "markdown",
   "id": "1edce0f5-1882-4471-8883-c78d3966e800",
   "metadata": {},
   "source": [
    "Now picking random blocks from the chunks starting from the random positions"
   ]
  },
  {
   "cell_type": "code",
   "execution_count": 11,
   "id": "795058ad-8972-4733-a9b5-37fd8cd5d221",
   "metadata": {},
   "outputs": [
    {
     "name": "stdout",
     "output_type": "stream",
     "text": [
      "Inputs: \n",
      "torch.Size([4, 8])\n",
      "tensor([[62, 71, 68, 72, 60, 79, 64, 61],\n",
      "        [ 1, 68, 78,  1, 63, 68, 65, 65],\n",
      "        [80, 68, 78, 78, 64, 14, 62, 74],\n",
      "        [79, 68, 73, 66, 14, 75, 63, 65]])\n",
      "Output: \n",
      "torch.Size([4, 8])\n",
      "tensor([[71, 68, 72, 60, 79, 64, 61, 74],\n",
      "        [68, 78,  1, 63, 68, 65, 65, 68],\n",
      "        [68, 78, 78, 64, 14, 62, 74, 72],\n",
      "        [68, 73, 66, 14, 75, 63, 65,  1]])\n",
      "_______\n",
      "When input is [62] target is:71\n",
      "When input is [62, 71] target is:68\n",
      "When input is [62, 71, 68] target is:72\n",
      "When input is [62, 71, 68, 72] target is:60\n",
      "When input is [62, 71, 68, 72, 60] target is:79\n",
      "When input is [62, 71, 68, 72, 60, 79] target is:64\n",
      "When input is [62, 71, 68, 72, 60, 79, 64] target is:61\n",
      "When input is [62, 71, 68, 72, 60, 79, 64, 61] target is:74\n",
      "When input is [1] target is:68\n",
      "When input is [1, 68] target is:78\n",
      "When input is [1, 68, 78] target is:1\n",
      "When input is [1, 68, 78, 1] target is:63\n",
      "When input is [1, 68, 78, 1, 63] target is:68\n",
      "When input is [1, 68, 78, 1, 63, 68] target is:65\n",
      "When input is [1, 68, 78, 1, 63, 68, 65] target is:65\n",
      "When input is [1, 68, 78, 1, 63, 68, 65, 65] target is:68\n",
      "When input is [80] target is:68\n",
      "When input is [80, 68] target is:78\n",
      "When input is [80, 68, 78] target is:78\n",
      "When input is [80, 68, 78, 78] target is:64\n",
      "When input is [80, 68, 78, 78, 64] target is:14\n",
      "When input is [80, 68, 78, 78, 64, 14] target is:62\n",
      "When input is [80, 68, 78, 78, 64, 14, 62] target is:74\n",
      "When input is [80, 68, 78, 78, 64, 14, 62, 74] target is:72\n",
      "When input is [79] target is:68\n",
      "When input is [79, 68] target is:73\n",
      "When input is [79, 68, 73] target is:66\n",
      "When input is [79, 68, 73, 66] target is:14\n",
      "When input is [79, 68, 73, 66, 14] target is:75\n",
      "When input is [79, 68, 73, 66, 14, 75] target is:63\n",
      "When input is [79, 68, 73, 66, 14, 75, 63] target is:65\n",
      "When input is [79, 68, 73, 66, 14, 75, 63, 65] target is:1\n"
     ]
    }
   ],
   "source": [
    "torch.manual_seed(1020)\n",
    "batch_size = 4  # How many independent sequences will we process in parallel?\n",
    "block_size = 8  # What is the maximum context length for prediction?\n",
    "\n",
    "def get_batch(split):\n",
    "    data = train_data if split == 'train' else val_data\n",
    "    ix = torch.randint(len(data) - block_size, (batch_size,))\n",
    "    x = torch.stack([data[i:i+block_size] for i in ix])\n",
    "    y = torch.stack([data[i+1:i+block_size+1] for i in ix])\n",
    "    return x, y\n",
    "\n",
    "xb, yb = get_batch('train')\n",
    "print('Inputs: ')\n",
    "print(xb.shape)\n",
    "print(xb)\n",
    "print('Output: ')\n",
    "print(yb.shape)\n",
    "print(yb)\n",
    "\n",
    "print('_______')\n",
    "\n",
    "for b in range(batch_size):  # Batch dimention\n",
    "    for t in range(block_size):  # Time dimention\n",
    "        context = xb[b, :t+1]\n",
    "        target = yb[b,t]\n",
    "        print(f\"When input is {context.tolist()} target is:{target}\")"
   ]
  },
  {
   "cell_type": "markdown",
   "id": "c6c776f2-ba81-451d-a390-a5bc5718f7d9",
   "metadata": {},
   "source": [
    "## Feeding to the model"
   ]
  },
  {
   "cell_type": "markdown",
   "id": "753743c6-9d28-4898-ab45-51a19188815c",
   "metadata": {},
   "source": [
    "Let us start with constructing a simple bigram model"
   ]
  },
  {
   "cell_type": "code",
   "execution_count": 17,
   "id": "f8dd386d-4ee3-4f5c-bb5c-a74da064477d",
   "metadata": {},
   "outputs": [
    {
     "name": "stdout",
     "output_type": "stream",
     "text": [
      "torch.Size([32, 98])\n",
      "tensor(5.2132, grad_fn=<NllLossBackward0>)\n"
     ]
    }
   ],
   "source": [
    "import torch\n",
    "import torch.nn as nn\n",
    "from torch.nn import functional as F\n",
    "torch.manual_seed(1020)\n",
    "\n",
    "class BigramLanguageModel(nn.Module):\n",
    "\n",
    "    def __init__(self, vocab_size):\n",
    "        super().__init__()\n",
    "        \n",
    "        # Each token directly reads off the logitsfor the next token from a lookup table\n",
    "        self.token_embedding_table = nn.Embedding(vocab_size, vocab_size)\n",
    "\n",
    "    def forward(self, idx, target):\n",
    "        \n",
    "        # idx and target are both (B,T) tensor of integers\n",
    "        logits = self.token_embedding_table(idx) #(B,T,C)\n",
    "\n",
    "        # Lets calculate the loss function for the prediction that are made\n",
    "        B, T, C = logits.shape # Reshaping for the loss calculation\n",
    "        logits = logits.view(B*T, C) # Conversion to 2D for Pytorch to process\n",
    "        target = target.view(B*T)\n",
    "        loss = F.cross_entropy(logits, target)        \n",
    "\n",
    "        return logits, loss\n",
    "\n",
    "m = BigramLanguageModel(vocab_size)\n",
    "logits, loss = m(xb, yb)\n",
    "print(logits.shape)\n",
    "print(loss)"
   ]
  },
  {
   "cell_type": "code",
   "execution_count": null,
   "id": "094e9f30-f1e7-43b9-99b8-d489d4777d46",
   "metadata": {},
   "outputs": [],
   "source": []
  }
 ],
 "metadata": {
  "kernelspec": {
   "display_name": "Python 3 (ipykernel)",
   "language": "python",
   "name": "python3"
  },
  "language_info": {
   "codemirror_mode": {
    "name": "ipython",
    "version": 3
   },
   "file_extension": ".py",
   "mimetype": "text/x-python",
   "name": "python",
   "nbconvert_exporter": "python",
   "pygments_lexer": "ipython3",
   "version": "3.11.5"
  }
 },
 "nbformat": 4,
 "nbformat_minor": 5
}
