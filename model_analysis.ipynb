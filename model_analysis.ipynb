{
 "cells": [
  {
   "cell_type": "code",
   "execution_count": 1,
   "id": "7ab599c6-4a7b-44f5-80ec-6e1e4cd94fb1",
   "metadata": {},
   "outputs": [],
   "source": [
    "with open('input.txt', 'r', encoding='utf-8') as f:\n",
    "    text=f.read()"
   ]
  },
  {
   "cell_type": "code",
   "execution_count": 2,
   "id": "1b102c2c-e714-4f87-a6c9-628794d642d5",
   "metadata": {},
   "outputs": [
    {
     "name": "stdout",
     "output_type": "stream",
     "text": [
      "Lenght of dataset in characters:  1115393\n"
     ]
    }
   ],
   "source": [
    "print('Lenght of dataset in characters: ', len(text))"
   ]
  },
  {
   "cell_type": "markdown",
   "id": "24ffa16f-34d6-4424-8448-35bde4b817c3",
   "metadata": {},
   "source": [
    "## All the unique characters that occur in this text"
   ]
  },
  {
   "cell_type": "code",
   "execution_count": 3,
   "id": "a870c3f2-ba04-4c83-a8f0-df2f74a05c1a",
   "metadata": {},
   "outputs": [
    {
     "name": "stdout",
     "output_type": "stream",
     "text": [
      "\n",
      " !$&',-.3:;?ABCDEFGHIJKLMNOPQRSTUVWXYZabcdefghijklmnopqrstuvwxyz\n",
      "65\n"
     ]
    }
   ],
   "source": [
    "chars = sorted(list(set(text)))\n",
    "vocab_size = len(chars)\n",
    "print(''.join(chars))\n",
    "print(vocab_size)"
   ]
  },
  {
   "cell_type": "markdown",
   "id": "75ba83e9-ecd9-49b9-bd60-ed2c7d0fdfa3",
   "metadata": {},
   "source": [
    "## Tokenisation"
   ]
  },
  {
   "cell_type": "markdown",
   "id": "00566c8d-67a0-4c99-a38d-ab7fd812c2f3",
   "metadata": {},
   "source": [
    "Create a mapping for characters to integers"
   ]
  },
  {
   "cell_type": "code",
   "execution_count": 4,
   "id": "63eb29fb-5f7c-4693-a38f-f9d07ebb1502",
   "metadata": {},
   "outputs": [
    {
     "name": "stdout",
     "output_type": "stream",
     "text": [
      "[46, 47, 1, 32, 20, 17, 30, 17, 2]\n",
      "hi THERE!\n"
     ]
    }
   ],
   "source": [
    "stoi = {ch:i for i, ch in enumerate(chars)}\n",
    "itos = {i:ch for i, ch in enumerate(chars)}\n",
    "\n",
    "# Encoders take a string and output a list of integers\n",
    "# Decoders take a list of integers and output a string\n",
    "\n",
    "encode = lambda s: [stoi[c] for c in s]\n",
    "decode = lambda l: ''.join([itos[i] for i in l])\n",
    "\n",
    "print(encode('hi THERE!'))\n",
    "print(decode(encode('hi THERE!')))"
   ]
  },
  {
   "cell_type": "markdown",
   "id": "01be7d46-1189-4353-9f21-d49e64f4e1b6",
   "metadata": {},
   "source": [
    "Now lets encode the entire chunck of text we are having and save it to torch.tensor"
   ]
  },
  {
   "cell_type": "code",
   "execution_count": 5,
   "id": "b6961d05-6930-4a8d-89f0-f608ce678846",
   "metadata": {},
   "outputs": [
    {
     "name": "stdout",
     "output_type": "stream",
     "text": [
      "torch.Size([1115393]) torch.int64\n",
      "tensor([18, 47, 56, 57, 58,  1, 15, 47, 58, 47, 64, 43, 52, 10,  0, 14, 43, 44,\n",
      "        53, 56, 43,  1, 61, 43,  1, 54, 56, 53, 41, 43, 43, 42,  1, 39, 52, 63,\n",
      "         1, 44, 59, 56, 58, 46, 43, 56,  6,  1, 46, 43, 39, 56,  1, 51, 43,  1,\n",
      "        57, 54, 43, 39, 49,  8,  0,  0, 13, 50, 50, 10,  0, 31, 54, 43, 39, 49,\n",
      "         6,  1, 57, 54, 43, 39, 49,  8,  0,  0, 18, 47, 56, 57, 58,  1, 15, 47,\n",
      "        58, 47, 64, 43, 52, 10,  0, 37, 53, 59,  1, 39, 56, 43,  1, 39, 50, 50,\n",
      "         1, 56, 43, 57, 53, 50, 60, 43, 42,  1, 56, 39, 58, 46, 43, 56,  1, 58,\n",
      "        53,  1, 42, 47, 43,  1, 58, 46, 39, 52,  1, 58, 53,  1, 44, 39, 51, 47,\n",
      "        57, 46, 12,  0,  0, 13, 50, 50, 10,  0, 30, 43, 57, 53, 50, 60, 43, 42,\n",
      "         8,  1, 56, 43, 57, 53, 50, 60, 43, 42,  8,  0,  0, 18, 47, 56, 57, 58,\n",
      "         1, 15, 47, 58, 47, 64, 43, 52, 10,  0, 18, 47, 56, 57, 58,  6,  1, 63,\n",
      "        53, 59,  1, 49, 52, 53, 61,  1, 15, 39, 47, 59, 57,  1, 25, 39, 56, 41,\n",
      "        47, 59, 57,  1, 47, 57,  1, 41, 46, 47, 43, 44,  1, 43, 52, 43, 51, 63,\n",
      "         1, 58, 53,  1, 58, 46, 43,  1, 54, 43, 53, 54, 50, 43,  8,  0,  0, 13,\n",
      "        50, 50, 10,  0, 35, 43,  1, 49, 52, 53, 61,  5, 58,  6,  1, 61, 43,  1,\n",
      "        49, 52, 53, 61,  5, 58,  8,  0,  0, 18, 47, 56, 57, 58,  1, 15, 47, 58,\n",
      "        47, 64, 43, 52, 10,  0, 24, 43, 58,  1, 59, 57,  1, 49, 47, 50, 50,  1,\n",
      "        46, 47, 51,  6,  1, 39, 52, 42,  1, 61, 43,  5, 50, 50,  1, 46, 39, 60,\n",
      "        43,  1, 41, 53, 56, 52,  1, 39, 58,  1, 53, 59, 56,  1, 53, 61, 52,  1,\n",
      "        54, 56, 47, 41, 43,  8,  0, 21, 57,  5, 58,  1, 39,  1, 60, 43, 56, 42,\n",
      "        47, 41, 58, 12,  0,  0, 13, 50, 50, 10,  0, 26, 53,  1, 51, 53, 56, 43,\n",
      "         1, 58, 39, 50, 49, 47, 52, 45,  1, 53, 52,  5, 58, 11,  1, 50, 43, 58,\n",
      "         1, 47, 58,  1, 40, 43,  1, 42, 53, 52, 43, 10,  1, 39, 61, 39, 63,  6,\n",
      "         1, 39, 61, 39, 63,  2,  0,  0, 31, 43, 41, 53, 52, 42,  1, 15, 47, 58,\n",
      "        47, 64, 43, 52, 10,  0, 27, 52, 43,  1, 61, 53, 56, 42,  6,  1, 45, 53,\n",
      "        53, 42,  1, 41, 47, 58, 47, 64, 43, 52, 57,  8,  0,  0, 18, 47, 56, 57,\n",
      "        58,  1, 15, 47, 58, 47, 64, 43, 52, 10,  0, 35, 43,  1, 39, 56, 43,  1,\n",
      "        39, 41, 41, 53, 59, 52, 58, 43, 42,  1, 54, 53, 53, 56,  1, 41, 47, 58,\n",
      "        47, 64, 43, 52, 57,  6,  1, 58, 46, 43,  1, 54, 39, 58, 56, 47, 41, 47,\n",
      "        39, 52, 57,  1, 45, 53, 53, 42,  8,  0, 35, 46, 39, 58,  1, 39, 59, 58,\n",
      "        46, 53, 56, 47, 58, 63,  1, 57, 59, 56, 44, 43, 47, 58, 57,  1, 53, 52,\n",
      "         1, 61, 53, 59, 50, 42,  1, 56, 43, 50, 47, 43, 60, 43,  1, 59, 57, 10,\n",
      "         1, 47, 44,  1, 58, 46, 43, 63,  0, 61, 53, 59, 50, 42,  1, 63, 47, 43,\n",
      "        50, 42,  1, 59, 57,  1, 40, 59, 58,  1, 58, 46, 43,  1, 57, 59, 54, 43,\n",
      "        56, 44, 50, 59, 47, 58, 63,  6,  1, 61, 46, 47, 50, 43,  1, 47, 58,  1,\n",
      "        61, 43, 56, 43,  0, 61, 46, 53, 50, 43, 57, 53, 51, 43,  6,  1, 61, 43,\n",
      "         1, 51, 47, 45, 46, 58,  1, 45, 59, 43, 57, 57,  1, 58, 46, 43, 63,  1,\n",
      "        56, 43, 50, 47, 43, 60, 43, 42,  1, 59, 57,  1, 46, 59, 51, 39, 52, 43,\n",
      "        50, 63, 11,  0, 40, 59, 58,  1, 58, 46, 43, 63,  1, 58, 46, 47, 52, 49,\n",
      "         1, 61, 43,  1, 39, 56, 43,  1, 58, 53, 53,  1, 42, 43, 39, 56, 10,  1,\n",
      "        58, 46, 43,  1, 50, 43, 39, 52, 52, 43, 57, 57,  1, 58, 46, 39, 58,  0,\n",
      "        39, 44, 44, 50, 47, 41, 58, 57,  1, 59, 57,  6,  1, 58, 46, 43,  1, 53,\n",
      "        40, 48, 43, 41, 58,  1, 53, 44,  1, 53, 59, 56,  1, 51, 47, 57, 43, 56,\n",
      "        63,  6,  1, 47, 57,  1, 39, 57,  1, 39, 52,  0, 47, 52, 60, 43, 52, 58,\n",
      "        53, 56, 63,  1, 58, 53,  1, 54, 39, 56, 58, 47, 41, 59, 50, 39, 56, 47,\n",
      "        57, 43,  1, 58, 46, 43, 47, 56,  1, 39, 40, 59, 52, 42, 39, 52, 41, 43,\n",
      "        11,  1, 53, 59, 56,  0, 57, 59, 44, 44, 43, 56, 39, 52, 41, 43,  1, 47,\n",
      "        57,  1, 39,  1, 45, 39, 47, 52,  1, 58, 53,  1, 58, 46, 43, 51,  1, 24,\n",
      "        43, 58,  1, 59, 57,  1, 56, 43, 60, 43, 52, 45, 43,  1, 58, 46, 47, 57,\n",
      "         1, 61, 47, 58, 46,  0, 53, 59, 56,  1, 54, 47, 49, 43, 57,  6,  1, 43,\n",
      "        56, 43,  1, 61, 43,  1, 40, 43, 41, 53, 51, 43,  1, 56, 39, 49, 43, 57,\n",
      "        10,  1, 44, 53, 56,  1, 58, 46, 43,  1, 45, 53, 42, 57,  1, 49, 52, 53,\n",
      "        61,  1, 21,  0, 57, 54, 43, 39, 49,  1, 58, 46, 47, 57,  1, 47, 52,  1,\n",
      "        46, 59, 52, 45, 43, 56,  1, 44, 53, 56,  1, 40, 56, 43, 39, 42,  6,  1,\n",
      "        52, 53, 58,  1, 47, 52,  1, 58, 46, 47, 56, 57, 58,  1, 44, 53, 56,  1,\n",
      "        56, 43, 60, 43, 52, 45, 43,  8,  0,  0])\n"
     ]
    }
   ],
   "source": [
    "import torch\n",
    "data = torch.tensor(encode(text), dtype = torch.long)\n",
    "print(data.shape, data.dtype)\n",
    "print(data[:1000])"
   ]
  },
  {
   "cell_type": "markdown",
   "id": "9a0bb11b-d099-4fa1-a015-b035f16620af",
   "metadata": {},
   "source": [
    "## Spliting the data"
   ]
  },
  {
   "cell_type": "markdown",
   "id": "dd26ea93-582a-4315-8e13-9c0df833f33a",
   "metadata": {},
   "source": [
    "Split the data in the validation and testing set"
   ]
  },
  {
   "cell_type": "code",
   "execution_count": 6,
   "id": "f2ebbe2a-d78f-4593-8175-00eb77b45d9d",
   "metadata": {},
   "outputs": [],
   "source": [
    "# We will keep 90 percent of proportion into testing and 10 percent to validate\n",
    "\n",
    "n = int(0.9*len(data))\n",
    "train_data = data[:n]\n",
    "val_data = data[n:]"
   ]
  },
  {
   "cell_type": "code",
   "execution_count": 7,
   "id": "f79c274e-6f9b-4c54-ab61-04f0caa1d2ca",
   "metadata": {},
   "outputs": [
    {
     "data": {
      "text/plain": [
       "tensor([18, 47, 56, 57, 58,  1, 15, 47, 58])"
      ]
     },
     "execution_count": 7,
     "metadata": {},
     "output_type": "execute_result"
    }
   ],
   "source": [
    "# Usually we train the model of samples of data or block of data here we are calling them block_size\n",
    "\n",
    "block_size = 8\n",
    "train_data[:block_size + 1]"
   ]
  },
  {
   "cell_type": "markdown",
   "id": "71838ab7-6306-4d20-8bab-09571da811a8",
   "metadata": {},
   "source": [
    "A simple illustraion of working on the data with the specified block size\n",
    "\n",
    "On what basis the predictions will be made"
   ]
  },
  {
   "cell_type": "code",
   "execution_count": 8,
   "id": "00e261e2-fd47-4f64-b27d-25572e701380",
   "metadata": {},
   "outputs": [
    {
     "name": "stdout",
     "output_type": "stream",
     "text": [
      "When input is tensor([18]) the target is:47\n",
      "When input is tensor([18, 47]) the target is:56\n",
      "When input is tensor([18, 47, 56]) the target is:57\n",
      "When input is tensor([18, 47, 56, 57]) the target is:58\n",
      "When input is tensor([18, 47, 56, 57, 58]) the target is:1\n",
      "When input is tensor([18, 47, 56, 57, 58,  1]) the target is:15\n",
      "When input is tensor([18, 47, 56, 57, 58,  1, 15]) the target is:47\n",
      "When input is tensor([18, 47, 56, 57, 58,  1, 15, 47]) the target is:58\n"
     ]
    }
   ],
   "source": [
    "x = train_data[:block_size]\n",
    "y = train_data[1:block_size+1]\n",
    "for t in range(block_size):\n",
    "    context = x[:t+1]\n",
    "    target = y[t]\n",
    "    print(f\"When input is {context} the target is:{target}\")"
   ]
  },
  {
   "cell_type": "markdown",
   "id": "1edce0f5-1882-4471-8883-c78d3966e800",
   "metadata": {},
   "source": [
    "Now picking random blocks from the chunks starting from the random positions"
   ]
  },
  {
   "cell_type": "code",
   "execution_count": 9,
   "id": "795058ad-8972-4733-a9b5-37fd8cd5d221",
   "metadata": {},
   "outputs": [
    {
     "name": "stdout",
     "output_type": "stream",
     "text": [
      "Inputs: \n",
      "torch.Size([4, 8])\n",
      "tensor([[43,  1, 39, 52, 42,  1, 51, 63],\n",
      "        [63, 53, 59, 56,  1, 46, 43, 39],\n",
      "        [58, 46, 43,  1, 57, 47, 41, 49],\n",
      "        [18, 47, 56, 57, 58,  1, 20, 59]])\n",
      "Output: \n",
      "torch.Size([4, 8])\n",
      "tensor([[ 1, 39, 52, 42,  1, 51, 63,  1],\n",
      "        [53, 59, 56,  1, 46, 43, 39, 56],\n",
      "        [46, 43,  1, 57, 47, 41, 49,  1],\n",
      "        [47, 56, 57, 58,  1, 20, 59, 52]])\n",
      "_______\n",
      "When input is [43] target is:1\n",
      "When input is [43, 1] target is:39\n",
      "When input is [43, 1, 39] target is:52\n",
      "When input is [43, 1, 39, 52] target is:42\n",
      "When input is [43, 1, 39, 52, 42] target is:1\n",
      "When input is [43, 1, 39, 52, 42, 1] target is:51\n",
      "When input is [43, 1, 39, 52, 42, 1, 51] target is:63\n",
      "When input is [43, 1, 39, 52, 42, 1, 51, 63] target is:1\n",
      "When input is [63] target is:53\n",
      "When input is [63, 53] target is:59\n",
      "When input is [63, 53, 59] target is:56\n",
      "When input is [63, 53, 59, 56] target is:1\n",
      "When input is [63, 53, 59, 56, 1] target is:46\n",
      "When input is [63, 53, 59, 56, 1, 46] target is:43\n",
      "When input is [63, 53, 59, 56, 1, 46, 43] target is:39\n",
      "When input is [63, 53, 59, 56, 1, 46, 43, 39] target is:56\n",
      "When input is [58] target is:46\n",
      "When input is [58, 46] target is:43\n",
      "When input is [58, 46, 43] target is:1\n",
      "When input is [58, 46, 43, 1] target is:57\n",
      "When input is [58, 46, 43, 1, 57] target is:47\n",
      "When input is [58, 46, 43, 1, 57, 47] target is:41\n",
      "When input is [58, 46, 43, 1, 57, 47, 41] target is:49\n",
      "When input is [58, 46, 43, 1, 57, 47, 41, 49] target is:1\n",
      "When input is [18] target is:47\n",
      "When input is [18, 47] target is:56\n",
      "When input is [18, 47, 56] target is:57\n",
      "When input is [18, 47, 56, 57] target is:58\n",
      "When input is [18, 47, 56, 57, 58] target is:1\n",
      "When input is [18, 47, 56, 57, 58, 1] target is:20\n",
      "When input is [18, 47, 56, 57, 58, 1, 20] target is:59\n",
      "When input is [18, 47, 56, 57, 58, 1, 20, 59] target is:52\n"
     ]
    }
   ],
   "source": [
    "torch.manual_seed(1020)\n",
    "batch_size = 4  # How many independent sequences will we process in parallel?\n",
    "block_size = 8  # What is the maximum context length for prediction?\n",
    "\n",
    "def get_batch(split):\n",
    "    data = train_data if split == 'train' else val_data\n",
    "    ix = torch.randint(len(data) - block_size, (batch_size,))\n",
    "    x = torch.stack([data[i:i+block_size] for i in ix])\n",
    "    y = torch.stack([data[i+1:i+block_size+1] for i in ix])\n",
    "    return x, y\n",
    "\n",
    "xb, yb = get_batch('train')\n",
    "print('Inputs: ')\n",
    "print(xb.shape)\n",
    "print(xb)\n",
    "print('Output: ')\n",
    "print(yb.shape)\n",
    "print(yb)\n",
    "\n",
    "print('_______')\n",
    "\n",
    "for b in range(batch_size):  # Batch dimention\n",
    "    for t in range(block_size):  # Time dimention\n",
    "        context = xb[b, :t+1]\n",
    "        target = yb[b,t]\n",
    "        print(f\"When input is {context.tolist()} target is:{target}\")"
   ]
  },
  {
   "cell_type": "markdown",
   "id": "c6c776f2-ba81-451d-a390-a5bc5718f7d9",
   "metadata": {},
   "source": [
    "## Feeding to the model"
   ]
  },
  {
   "cell_type": "markdown",
   "id": "753743c6-9d28-4898-ab45-51a19188815c",
   "metadata": {},
   "source": [
    "Let us start with constructing a simple bigram model"
   ]
  },
  {
   "cell_type": "code",
   "execution_count": 10,
   "id": "f8dd386d-4ee3-4f5c-bb5c-a74da064477d",
   "metadata": {},
   "outputs": [
    {
     "name": "stdout",
     "output_type": "stream",
     "text": [
      "torch.Size([32, 65])\n",
      "tensor(4.9503, grad_fn=<NllLossBackward0>)\n",
      "\n",
      "Sr?qP-QWkt\n"
     ]
    }
   ],
   "source": [
    "import torch\n",
    "import torch.nn as nn\n",
    "from torch.nn import functional as F\n",
    "torch.manual_seed(1337)\n",
    "\n",
    "class BigramLanguageModel(nn.Module):\n",
    "\n",
    "    def __init__(self, vocab_size):\n",
    "        super().__init__()\n",
    "        # each token directly reads off the logits for the next token from a lookup table\n",
    "        self.token_embedding_table = nn.Embedding(vocab_size, vocab_size)\n",
    "\n",
    "    def forward(self, idx, target=None):\n",
    "\n",
    "        # idx and targets are both (B,T) tensor of integers\n",
    "        logits = self.token_embedding_table(idx) # (B,T,C)\n",
    "\n",
    "        if target is None:\n",
    "            loss = None\n",
    "        else:\n",
    "            B, T, C = logits.shape\n",
    "            logits = logits.view(B*T, C)\n",
    "            target = target.view(B*T)\n",
    "            loss = F.cross_entropy(logits, target)\n",
    "\n",
    "        return logits, loss\n",
    "\n",
    "    def generate(self, idx, max_new_tokens):\n",
    "        # idx is (B, T) array of indices in the current context\n",
    "        for _ in range(max_new_tokens):\n",
    "            # get the predictions\n",
    "            logits, loss = self(idx)\n",
    "            # focus only on the last time step\n",
    "            logits = logits[:, -1, :] # becomes (B, C)\n",
    "            # apply softmax to get probabilities\n",
    "            probs = F.softmax(logits, dim=-1) # (B, C)\n",
    "            # sample from the distribution\n",
    "            idx_next = torch.multinomial(probs, num_samples=1) # (B, 1)\n",
    "            # append sampled index to the running sequence\n",
    "            idx = torch.cat((idx, idx_next), dim=1) # (B, T+1)\n",
    "        return idx\n",
    "\n",
    "m = BigramLanguageModel(vocab_size)\n",
    "logits, loss = m(xb, yb)\n",
    "print(logits.shape)\n",
    "print(loss)\n",
    "# Due to memory issue cannot use more than 20 max_new_tokens\n",
    "context = torch.zeros((1, 1), dtype=torch.long)\n",
    "print(decode(m.generate(context, max_new_tokens=10)[0].tolist()))"
   ]
  },
  {
   "cell_type": "markdown",
   "id": "8363797a-890a-47e2-a911-9a6b1d386ce2",
   "metadata": {},
   "source": [
    "## Optimization and model training"
   ]
  },
  {
   "cell_type": "code",
   "execution_count": 11,
   "id": "094e9f30-f1e7-43b9-99b8-d489d4777d46",
   "metadata": {},
   "outputs": [],
   "source": [
    "# Create a pytorch optimiser\n",
    "optimizer = torch.optim.AdamW(m.parameters(), lr=1e-3)"
   ]
  },
  {
   "cell_type": "code",
   "execution_count": 12,
   "id": "5933e0fb-a60e-4700-8887-78a86b2d5d4a",
   "metadata": {},
   "outputs": [
    {
     "name": "stdout",
     "output_type": "stream",
     "text": [
      "2.471766948699951\n"
     ]
    }
   ],
   "source": [
    "batch_size = 32\n",
    "for steps in range(10000):\n",
    "    xb, yb = get_batch('train')\n",
    "    \n",
    "    # Evaluate the loss\n",
    "    logits, loss = m(xb, yb)\n",
    "    optimizer.zero_grad(set_to_none=True)\n",
    "    loss.backward()\n",
    "    optimizer.step()\n",
    "\n",
    "print(loss.item())"
   ]
  },
  {
   "cell_type": "code",
   "execution_count": 13,
   "id": "7622e7b7-b3cd-42ca-962c-cdc62ff8b9f7",
   "metadata": {},
   "outputs": [
    {
     "name": "stdout",
     "output_type": "stream",
     "text": [
      "\n",
      "By y a!\n",
      "Clit hn y, denjxhece w illd CHAh, mer thoun s's:Conchuntilalllevise sthat dy hangilyoteng h hasbe pave pirance\n",
      "Rie hicomyonthar's\n",
      "PlinseKEd ith henouratucenonthioneir thondy, y heltieiengerofo'dsssit ey\n",
      "KIN d pe wither vouprrouthercc.\n",
      "hathe; d!\n",
      "My hind tt hinig t ouchos tes; st yo hind wotte grotonear 'so it t jod weancotha:\n",
      "h haybet--s n prids, r loncave w hollular s O:\n",
      "HIs; ht anjx?\n",
      "\n",
      "DUThinqunt.\n",
      "\n",
      "LaZAnde.\n",
      "athave l.\n",
      "KEONH:\n",
      "ARThanco be y,-hedarwnoddy scat t tridesar, wnl'shenous s ls, theresseys\n",
      "PlorseelapinghiybHen yof GLUCEN the. sE:\n",
      "I hisgothers je are! ABer wotouciullle'z,\n",
      "Thitertho s?\n",
      "NDan'spererfo cist ripl chys er orlese;\n",
      "Yo jeh f h hecere ek? wf HEThot mowo soaf loit, ince his, t, f at. fal thetrimy bupof tor atha By!\n",
      "JOutho f cimimave.\n",
      "NENTIt cir sella p wie wede\n",
      "Ro n apenor f'Y toverawitys an sh d w t e w!\n",
      "CEOntiretoaveEd the we n ck. cung.\n",
      "ORIsthies hacin benqurd bll, d a r w wistatsowor ath\n",
      "Fivet bloll ail a-I theeancu,\n",
      "LINCI'T:\n",
      "Sarey t I Ane sze t\n",
      "A hy thit,\n",
      "n.\n",
      "Fau\n"
     ]
    }
   ],
   "source": [
    "print(decode(m.generate(context, max_new_tokens=1000)[0].tolist()))"
   ]
  },
  {
   "cell_type": "markdown",
   "id": "fbc895e5-fb3c-45f1-a3c9-74ca7fbb67c0",
   "metadata": {},
   "source": [
    "## Self attention block(basis of LLM)\n",
    "It is used for processing these tokens"
   ]
  },
  {
   "cell_type": "code",
   "execution_count": 14,
   "id": "b79c77f3-8479-46d6-99e3-ecd58ee41b09",
   "metadata": {},
   "outputs": [
    {
     "data": {
      "text/plain": [
       "torch.Size([4, 8, 2])"
      ]
     },
     "execution_count": 14,
     "metadata": {},
     "output_type": "execute_result"
    }
   ],
   "source": [
    "# Let us take a toy example first to understant the mathematical trick around self attention\n",
    "\n",
    "torch.manual_seed(1337)\n",
    "B,T,C = 4,8,2 # batch, time, channel\n",
    "x = torch.randn(B,T,C)\n",
    "x.shape"
   ]
  },
  {
   "cell_type": "code",
   "execution_count": 15,
   "id": "93783db4-6f76-4444-9c92-22dfb686f9e2",
   "metadata": {},
   "outputs": [],
   "source": [
    "# We want x[b,t] = mean_{i<=t} x[b,i]\n",
    "\n",
    "xbow = torch.zeros((B,T,C)) # \"bow\" represents bag of characters\n",
    "for b in range(B):\n",
    "    for t in range(T):\n",
    "        xprev = x[b,:t+1]\n",
    "        xbow[b,t] = torch.mean(xprev, 0)"
   ]
  },
  {
   "cell_type": "code",
   "execution_count": 19,
   "id": "52a33c09-d2cf-4818-a51e-fc960de62e42",
   "metadata": {},
   "outputs": [
    {
     "data": {
      "text/plain": [
       "tensor([[1.0000, 0.0000, 0.0000, 0.0000, 0.0000, 0.0000, 0.0000, 0.0000],\n",
       "        [0.5000, 0.5000, 0.0000, 0.0000, 0.0000, 0.0000, 0.0000, 0.0000],\n",
       "        [0.3333, 0.3333, 0.3333, 0.0000, 0.0000, 0.0000, 0.0000, 0.0000],\n",
       "        [0.2500, 0.2500, 0.2500, 0.2500, 0.0000, 0.0000, 0.0000, 0.0000],\n",
       "        [0.2000, 0.2000, 0.2000, 0.2000, 0.2000, 0.0000, 0.0000, 0.0000],\n",
       "        [0.1667, 0.1667, 0.1667, 0.1667, 0.1667, 0.1667, 0.0000, 0.0000],\n",
       "        [0.1429, 0.1429, 0.1429, 0.1429, 0.1429, 0.1429, 0.1429, 0.0000],\n",
       "        [0.1250, 0.1250, 0.1250, 0.1250, 0.1250, 0.1250, 0.1250, 0.1250]])"
      ]
     },
     "execution_count": 19,
     "metadata": {},
     "output_type": "execute_result"
    }
   ],
   "source": [
    "wei = torch.tril(torch.ones(T, T))\n",
    "wei = wei / wei.sum(1, keepdim=True)\n",
    "wei # Sum of each row in the matrix will be 1"
   ]
  },
  {
   "cell_type": "code",
   "execution_count": 25,
   "id": "751ecd45-b986-4890-a348-8a72109c6550",
   "metadata": {},
   "outputs": [
    {
     "data": {
      "text/plain": [
       "False"
      ]
     },
     "execution_count": 25,
     "metadata": {},
     "output_type": "execute_result"
    }
   ],
   "source": [
    "# here torch will perform batch multiplication i.e will add a batch dimention to the wei and make it (B,T,T)\n",
    "# the output maatrix will have dimentions (B,T,T) @ (B,T,C) ----> (B,T,C)\n",
    "xbow2 = wei @ x\n",
    "\n",
    "# If we check for similarity between xbow2 and xbow we will have full match\n",
    "torch.allclose(xbow, xbow2)"
   ]
  },
  {
   "cell_type": "code",
   "execution_count": 26,
   "id": "50eb3187-653c-4909-8064-31cade7162ba",
   "metadata": {},
   "outputs": [
    {
     "data": {
      "text/plain": [
       "False"
      ]
     },
     "execution_count": 26,
     "metadata": {},
     "output_type": "execute_result"
    }
   ],
   "source": [
    "# How can it be done using softmax\n",
    "\n",
    "tril = torch.tril(torch.ones(T, T))\n",
    "wei = torch.zeros(T, T)\n",
    "wei = wei.masked_fill(tril == 0, float('-inf'))\n",
    "wei = F.softmax(wei, dim=-1)\n",
    "xbow3 = wei @ x\n",
    "torch.allclose(xbow, xbow3)"
   ]
  },
  {
   "cell_type": "code",
   "execution_count": null,
   "id": "e5c24607-ff45-4da6-8179-32caed931043",
   "metadata": {},
   "outputs": [],
   "source": [
    "# Ceating a single head self attention block\n",
    "\n",
    "torch.manual_seed(1337)\n",
    "B,T,C = 4,8,32\n",
    "x = torch.randn(B,T,C)\n",
    "\n",
    "head_size = 16\n",
    "key = nn.Linear(C, head_size, bias=False)\n",
    "query = nn.Linear(C, head_size, bias=False)\n",
    "value = nn.Linear(C, head_size, bias=False)\n",
    "k = key(x)\n",
    "q = query(x)\n",
    "wei = q @ k.transpose(-2,-1) # This will give (B,T,16) @ (B,16,T) ------> (B,T,T)\n",
    "\n",
    "tril = torch.tril(torch.ones(T,T))\n",
    "wei = torch.masked_fill(tril == 0, float('-inf'))\n",
    "wei = F.softmax(wei, dim=-1)\n",
    "\n",
    "v = value(x)\n",
    "out = wei @ v\n",
    "\n",
    "out.shape"
   ]
  }
 ],
 "metadata": {
  "kernelspec": {
   "display_name": "Python 3 (ipykernel)",
   "language": "python",
   "name": "python3"
  },
  "language_info": {
   "codemirror_mode": {
    "name": "ipython",
    "version": 3
   },
   "file_extension": ".py",
   "mimetype": "text/x-python",
   "name": "python",
   "nbconvert_exporter": "python",
   "pygments_lexer": "ipython3",
   "version": "3.11.5"
  }
 },
 "nbformat": 4,
 "nbformat_minor": 5
}
